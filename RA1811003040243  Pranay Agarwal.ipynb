{
 "cells": [
  {
   "cell_type": "code",
   "execution_count": 1,
   "metadata": {},
   "outputs": [
    {
     "name": "stdout",
     "output_type": "stream",
     "text": [
      "Factorial of the given number is:\n",
      "1\n",
      "2\n",
      "6\n",
      "24\n",
      "120\n"
     ]
    },
    {
     "data": {
      "text/plain": [
       "120"
      ]
     },
     "execution_count": 1,
     "metadata": {},
     "output_type": "execute_result"
    }
   ],
   "source": [
    "def factorial(n):\n",
    "    if n>0:\n",
    "        result=n*factorial(n-1)\n",
    "        print(result)\n",
    "    else:\n",
    "        result=1\n",
    "    return result\n",
    "print(\"Factorial of the given number is:\")\n",
    "factorial(5)"
   ]
  },
  {
   "cell_type": "code",
   "execution_count": 4,
   "metadata": {},
   "outputs": [
    {
     "name": "stdout",
     "output_type": "stream",
     "text": [
      "Enter a number 200\n",
      "From def: 8000000\n",
      "From Lambda: 8000000\n"
     ]
    }
   ],
   "source": [
    "def cube(n):\n",
    "    return n*n*n\n",
    "x=int(input(\"Enter a number \"))\n",
    "print(\"From def:\",cube(x))\n",
    "c=lambda x:x*x*x\n",
    "print(\"From Lambda:\",c(x))"
   ]
  },
  {
   "cell_type": "code",
   "execution_count": 7,
   "metadata": {},
   "outputs": [
    {
     "name": "stdout",
     "output_type": "stream",
     "text": [
      "Enter a stringemma watson is an emma Emma\n",
      "3\n"
     ]
    }
   ],
   "source": [
    "samplw=input(\"Enter a string\")\n",
    "count=count1=0\n",
    "for i in range(len(samplw)):\n",
    "    count+=samplw[i:i+4]==\"Emma\"\n",
    "    count1+=samplw[i:i+4]==\"emma\"\n",
    "print(count+count1)"
   ]
  },
  {
   "cell_type": "code",
   "execution_count": 9,
   "metadata": {},
   "outputs": [
    {
     "name": "stdout",
     "output_type": "stream",
     "text": [
      "Enter the size of first array: 3\n",
      "Enter the elements of first array: \n",
      "1\n",
      "3\n",
      "5\n",
      "Enter the size of second array: 3\n",
      "Enter the elements of second array: \n",
      "1\n",
      "2\n",
      "3\n",
      "[1, 5, 2]\n"
     ]
    }
   ],
   "source": [
    "m=int(input(\"Enter the size of first array: \"))\n",
    "a=[]\n",
    "b=[]\n",
    "c=[]\n",
    "print(\"Enter the elements of first array: \")\n",
    "for i in range(m):\n",
    "    a.append(int(input()))\n",
    "n=int(input(\"Enter the size of second array: \"))\n",
    "print(\"Enter the elements of second array: \")\n",
    "for i in range(n):\n",
    "    b.append(int(input()))\n",
    "for i in range(m):\n",
    "    if i%2==0:\n",
    "        c.append(a[i])\n",
    "for i in range(n):\n",
    "    if i%2==1:\n",
    "        c.append(b[i])\n",
    "print(c)      "
   ]
  },
  {
   "cell_type": "code",
   "execution_count": 10,
   "metadata": {},
   "outputs": [
    {
     "name": "stdout",
     "output_type": "stream",
     "text": [
      "2\n",
      "3\n",
      "5\n",
      "-1\n",
      "-5\n",
      "6\n",
      "10\n",
      "100\n",
      "0\n",
      "Positives: 6\n",
      "Negatives: 2\n",
      "Total= 120\n",
      "Average= 15.0\n"
     ]
    }
   ],
   "source": [
    "arr=[]\n",
    "inp=-1\n",
    "pc=0\n",
    "nc=0\n",
    "total=0\n",
    "avg=0.0\n",
    "while inp!=0:\n",
    "    inp=int(input())\n",
    "    arr.append(inp)\n",
    "for i in range(len(arr)):\n",
    "    if(arr[i]<0):\n",
    "        nc+=1\n",
    "    elif(arr[i]>0):\n",
    "        pc+=1\n",
    "    total+=arr[i]\n",
    "avg=float(total/(len(arr)-1))\n",
    "print(\"Positives:\",pc)\n",
    "print(\"Negatives:\",nc)\n",
    "print(\"Total=\",total)\n",
    "print(\"Average=\",round(avg,2))\n"
   ]
  },
  {
   "cell_type": "code",
   "execution_count": 16,
   "metadata": {},
   "outputs": [
    {
     "name": "stdout",
     "output_type": "stream",
     "text": [
      "Enter first number2\n",
      "Enter second number3\n",
      "Enter third number4\n",
      "THIRD\n"
     ]
    }
   ],
   "source": [
    "a=int(input(\"Enter first number\"))\n",
    "b=int(input(\"Enter second number\"))\n",
    "\n",
    "c=int(input(\"Enter third number\"))\n",
    "if(a>b):\n",
    "    if(a>c):\n",
    "        print(\"FIRST\")\n",
    "    else:\n",
    "        print(\"THIRD\")\n",
    "elif(b>c):\n",
    "    print(\"SECOND\")\n",
    "else:\n",
    "    print(\"THIRD\")\n"
   ]
  },
  {
   "cell_type": "code",
   "execution_count": 19,
   "metadata": {},
   "outputs": [
    {
     "name": "stdout",
     "output_type": "stream",
     "text": [
      "Enter the namepranay\n",
      "enter the age20\n",
      "Hey!, pranay you will turn 100 in 2099\n"
     ]
    }
   ],
   "source": [
    "class Person:\n",
    "    def __init__(self,name,age):\n",
    "        self.name=name\n",
    "        self.age=age\n",
    "ame=input(\"Enter the name\")\n",
    "age=(int(input(\"enter the age\")))\n",
    "p1=Person(ame,age)\n",
    "page=2119-p1.age\n",
    "print(\"Hey!,\",p1.name,\"you will turn 100 in\",page)"
   ]
  },
  {
   "cell_type": "code",
   "execution_count": 21,
   "metadata": {},
   "outputs": [
    {
     "name": "stdout",
     "output_type": "stream",
     "text": [
      "Pranay\n",
      "Agarwal\n",
      "Agarwal   Pranay\n"
     ]
    }
   ],
   "source": [
    "class Name:\n",
    "    fname=\"\"\n",
    "    lname=\"\"\n",
    "n1=Name()\n",
    "n1.fname=input()\n",
    "n1.lname=input()\n",
    "print(n1.lname,\" \",n1.fname)"
   ]
  },
  {
   "cell_type": "code",
   "execution_count": 13,
   "metadata": {},
   "outputs": [
    {
     "name": "stdout",
     "output_type": "stream",
     "text": [
      "(1, 'Pranay', 'M', 95, 95, 98)\n",
      "(2, 'AKP', 'M', 94, 96, 100)\n",
      "(3, 'JB', 'M', 55, 85, 88)\n"
     ]
    }
   ],
   "source": [
    "import sqlite3\n",
    "connection=sqlite3.connect(\"Student.db\")\n",
    "crsr=connection.cursor()\n",
    "sql_command=\"\"\"Create Table stud(\n",
    "stuid integer primary key,\n",
    "name varchar(30),\n",
    "gender char(1),\n",
    "physics int,\n",
    "chem int,\n",
    "maths int);\"\"\"\n",
    "crsr.execute(sql_command)\n",
    "ans=\"\"\"Insert into stud values(1,\"Pranay\",\"M\",95,95,98);\"\"\"\n",
    "crsr.execute(ans)\n",
    "ans=\"\"\"Insert into stud values(2,\"AKP\",\"M\",94,96,100);\"\"\"\n",
    "crsr.execute(ans)\n",
    "ans=\"\"\"Insert into stud values(3,\"JB\",\"M\",55,85,88);\"\"\"\n",
    "crsr.execute(ans)\n",
    "cmd=\"\"\"Select * From stud;\"\"\"\n",
    "crsr.execute(cmd)\n",
    "x=crsr.fetchall()\n",
    "for i in x:\n",
    "    print(i)\n",
    "connection.close()"
   ]
  },
  {
   "cell_type": "code",
   "execution_count": 2,
   "metadata": {},
   "outputs": [],
   "source": [
    "html_str= \"\"\"\n",
    "<html>\n",
    "<head>\n",
    "<title> FIRST HTML EMBEDDING IN PYTHON </title>\n",
    "</head>\n",
    "<body>\n",
    "<h1> DECLARATIVE PROGRAMMING PARADIGM </h1>\n",
    "<h2> Declarative language types: </h2>\n",
    "<ul>\n",
    "<li> Functional </li>\n",
    "<li> Logic </li>\n",
    "</ul>\n",
    "<h2> Declarative langugae types: </h2>\n",
    "<ol>\n",
    "<li> Functional </li>\n",
    "<li> Logic </li>\n",
    "</ol>\n",
    "</body>\n",
    "</html>\n",
    "\"\"\"\n",
    "Html_file=open(\"First html file in python.html\",\"w\")\n",
    "Html_file.write(html_str)\n",
    "Html_file.close()"
   ]
  },
  {
   "cell_type": "code",
   "execution_count": 7,
   "metadata": {},
   "outputs": [
    {
     "name": "stdout",
     "output_type": "stream",
     "text": [
      "1\n",
      "22\n",
      "333\n",
      "4444\n",
      "55555\n"
     ]
    }
   ],
   "source": [
    "for i in range(1,6):\n",
    "    for j in range(1,i+1):\n",
    "        print(i,end='')\n",
    "    print()"
   ]
  },
  {
   "cell_type": "code",
   "execution_count": 8,
   "metadata": {},
   "outputs": [
    {
     "name": "stdout",
     "output_type": "stream",
     "text": [
      "Enter the number of students5\n",
      "Enter score: 56\n",
      "Enter score: 78\n",
      "Enter score: 98\n",
      "Enter score: 94\n",
      "Enter score: 69\n",
      "94\n",
      "98\n"
     ]
    }
   ],
   "source": [
    "n=int(input(\"Enter the number of students \"))\n",
    "arr=[]\n",
    "for i in range(n):\n",
    "    arr.append(int(input(\"Enter score: \")))\n",
    "arr.sort()\n",
    "print(arr[n-2])\n",
    "print(arr[n-1])"
   ]
  },
  {
   "cell_type": "code",
   "execution_count": 9,
   "metadata": {},
   "outputs": [
    {
     "name": "stdout",
     "output_type": "stream",
     "text": [
      "The current tuition fee is  10000\n",
      "Tuition fee in next 10 years will be  16288.946\n",
      "The cost of 4 year course 10 years from now will be:  65155.785\n"
     ]
    }
   ],
   "source": [
    "t=10000\n",
    "print(\"The current tuition fee is \",t)\n",
    "for i in range(10):\n",
    "    t+=t*0.05\n",
    "print(\"Tuition fee in next 10 years will be \",round(t,3))\n",
    "a=4*t\n",
    "print(\"The cost of 4 year course 10 years from now will be: \",round(a,3))\n"
   ]
  },
  {
   "cell_type": "code",
   "execution_count": 4,
   "metadata": {},
   "outputs": [],
   "source": [
    "from tkinter import *\n",
    "from tkinter.messagebox import *\n",
    "root=Tk()\n",
    "def ans():\n",
    "    result=int(num1.get()) + int(num2.get())\n",
    "    blank.insert(result)\n",
    "\n",
    "l1=Label(root, text=\"Enter num 1 \").grid(row=0)\n",
    "l2=Label(root, text=\"Enter num 2 \").grid(row=1)\n",
    "l3=Label(root, text=\"The sum is \").grid(row=2)\n",
    "num1=Entry(root).grid(row=0,column=1)\n",
    "num2=Entry(root).grid(row=1,column=1)\n",
    "blank=Entry(root).grid(row=2,column=1)\n",
    "\n",
    "Button(root,text=\"Quit\",command=root.destroy).grid(row=4, column=0, sticky=W, pady=4)\n",
    "Button(root,text=\"Add\",command=ans).grid(row=4, column=1, sticky=W, pady=4)\n",
    "root.mainloop()\n"
   ]
  },
  {
   "cell_type": "code",
   "execution_count": 21,
   "metadata": {},
   "outputs": [],
   "source": [
    "from tkinter import *\n",
    "from tkinter import messagebox\n",
    "root=Tk()\n",
    "root.title('BANKING MANAGEMENT SYSTEM')\n",
    "root.geometry(\"1000x1000\")\n",
    "\n",
    "def create():\n",
    "    msg=messagebox.showinfo(\"ACCOUNT OPENING FORM\",'ACCOUNT CREATED')\n",
    "    \n",
    "l1=Label(root,text='ACCOUNT OPENING FORM').grid(row=0,columnspan=2)\n",
    "l2=Label(root,text='FULL NAME').grid(row=1)\n",
    "l3=Label(root,text='GENDER').grid(row=2)\n",
    "l4=Label(root,text='PROFESSION').grid(row=3)\n",
    "l5=Label(root,text='AGE').grid(row=4)\n",
    "l6=Label(root,text='ACCOUNT TYPE').grid(row=5)\n",
    "l7=Label(root,text='AADHAR NUMBER').grid(row=6)\n",
    "l8=Label(root,text='CONTACT NUMBER').grid(row=7)\n",
    "l9=Label(root,text='ADDRESS').grid(row=8)\n",
    "e1=Entry(root).grid(row=1,column=1)\n",
    "e2=Entry(root).grid(row=3,column=1)\n",
    "e3=Entry(root).grid(row=5,column=1)\n",
    "e4=Entry(root).grid(row=6,column=1)\n",
    "e5=Entry(root).grid(row=7,column=1)\n",
    "e6=Entry(root).grid(row=8,column=1)\n",
    "e7=Entry(root).grid(row=4,column=1)\n",
    "b=Button(root,text='CREATE ACCOUNT',command=create).grid(row=9,columnspan=2)\n",
    "radio=IntVar()\n",
    "rb1=Radiobutton(root,text='MALE',variable=radio,width=15,value=1)\n",
    "rb1.grid(row=2,column=1)\n",
    "rb2=Radiobutton(root,text='FEMALE',variable=radio,width=15,value=2)\n",
    "rb2.grid(row=2,column=2)\n",
    "mainloop()\n",
    "\n",
    "\n",
    "\n",
    "\n"
   ]
  },
  {
   "cell_type": "code",
   "execution_count": 1,
   "metadata": {},
   "outputs": [
    {
     "name": "stdout",
     "output_type": "stream",
     "text": [
      "Hello folks!\n"
     ]
    }
   ],
   "source": [
    "from tkinter import *\n",
    "class mfgui:\n",
    "    def __init__(self,master):\n",
    "        self.master=master\n",
    "        master.title(\"A SIMPLE GUI\")\n",
    "        self.label=Label(master, text=\"This is our first GUI\")\n",
    "        self.label.pack()\n",
    "        self.greet_button=Button(master, text=\"Greet\",command=self.greet)\n",
    "        self.greet_button.pack()\n",
    "        self.closebutton=Button(master, text=\"Close\", command=master.quit)\n",
    "        self.closebutton.pack()\n",
    "        \n",
    "    def greet(self):\n",
    "        print(\"Hello folks!\")\n",
    "\n",
    "root=Tk()\n",
    "mygui=mfgui(root)\n",
    "root.mainloop()\n",
    "    "
   ]
  },
  {
   "cell_type": "code",
   "execution_count": 10,
   "metadata": {},
   "outputs": [],
   "source": [
    "from tkinter import * \n",
    "import sqlite3\n",
    "root = Tk()\n",
    "root.geometry('400x200') \n",
    "root.title(\"Registration Form\")\n",
    "Fullname=StringVar()\n",
    "Email=StringVar() \n",
    "var = IntVar() \n",
    "Age= IntVar() \n",
    "var2= IntVar() \n",
    "var3= IntVar() \n",
    "var4= IntVar()\n",
    "def query():\n",
    "    conn=sqlite3.connect('form.db')\n",
    "    c=conn.cursor()\n",
    "    c.execute(\"SELECT *,oid FROM Student \") \n",
    "    records = c.fetchall()\n",
    "    print(records)\n",
    "    print_names=' '\n",
    "    print_oid=' '\n",
    "    for record in records:\n",
    "        print_oid += str(record[7]) +\"\\n\"\n",
    "    for record in records:\n",
    "        print_names += str(record[0]) +\"\\n\" \n",
    "    name_label=Label(root,text='Names') \n",
    "    name_label.grid(row=27,column=1) \n",
    "    query_label = Label(root, text=print_names)\n",
    "    query_label.grid(row = 28 , column =1) \n",
    "    query_label = Label(root, text=print_oid)\n",
    "    query_label.grid(row = 28 , column =0) \n",
    "    conn.commit()\n",
    "    conn.close()\n",
    "    return\n",
    "\n",
    "def database():\n",
    "    namel=Fullname.get()\n",
    "    if(namel==\" \"):\n",
    "        name1=\"noname\" \n",
    "    email=Email.get()\n",
    "    if(email==\" \"):\n",
    "        email=\"NA\"\n",
    "    gender=0\n",
    "    gender=var.get()\n",
    "    if(gender==1):\n",
    "        Gen_='Male'\n",
    "    elif(gender==2):\n",
    "        Gen_='Female'\n",
    "    else:\n",
    "        Gen_='NA'\n",
    "    age=w.get()\n",
    "    math=el.get()\n",
    "    chem=e2.get()\n",
    "    phy=e3.get()\n",
    "    conn = sqlite3.connect( 'form.db') \n",
    "    with conn:\n",
    "        cursor=conn.cursor()\n",
    "    cursor.execute('CREATE TABLE IF NOT EXISTS student(Fullname,Email,Gender,Age,Math,Chem,Phy)')\n",
    "    cursor.execute('INSERT INTO student(Fullname,Email,Gender,Age,Math,Chem,Phy)VALUES(?,?,?,?,?,?)',(name1,email,Gen_,math,chem,phy))\n",
    "    entry_1.delete('0',END)\n",
    "    entry_2.delete('0',END)\n",
    "    w.delete('0',END)\n",
    "    e1.delete('0',END)\n",
    "    e2.delete('0',END)\n",
    "    e3.delete('0',END)\n",
    "    conn.commit()\n",
    "    conn.close()\n",
    "label_1= Label(root, text=\"FullName\",width=20,font=(\"bold\", 10)) \n",
    "label_1.grid(row=3, column=0)\n",
    "entry_1 = Entry(root,textvar=Fullname)\n",
    "entry_1.grid(row=3,column=1)\n",
    "label_2 = Label(root, text=\"Email\",width=20,font=(\"bold\", 10)) \n",
    "label_2.grid(row=5 ,column=0)\n",
    "entry_2 = Entry(root,textvar=Email) \n",
    "entry_2.grid(row=5 ,column=1)\n",
    "label_3 = Label(root, text=\"Gender\",width=10,font=(\"bold\", 10)) \n",
    "label_3.grid(row=7, column=0)\n",
    "Radiobutton(root, text=\"Male\", variable=var, value=1).grid(row=7 ,column=1) \n",
    "Radiobutton(root, text=\"Female\", variable=var, value=2).grid(row=7, column=2)\n",
    "Label(root,text='Age',width=20,font=(\"bold\",10)).grid(row=9, column=0)\n",
    "w = Spinbox(root, from_ = 16, to = 20)\n",
    "w.grid(row=9, column=1)\n",
    "Label(root, text='Maths mark',width=20,font=(\"bold\",10)).grid(row=13, column=0) \n",
    "Label(root, text='Chemistry mark',width=20,font=(\"bold\",10)).grid(row=16, column=0) \n",
    "Label(root, text='Physics mark',width=20,font=(\"bold\",10)).grid(row=19, column=0) \n",
    "el = Entry(root)\n",
    "e2 = Entry(root)\n",
    "e3 = Entry(root)\n",
    "el.grid(row=13, column=1) \n",
    "e2.grid(row=16, column=1) \n",
    "e3.grid(row=19, column=1)\n",
    "b1=Button(root, text='submit',width=10,bg='brown',fg='white', command=database).grid(row=24,column=0)\n",
    "b2=Button(root, text='Verify Records',width=10, command=query).grid(row=24,column=1)\n",
    "root.mainloop()\n",
    "   \n",
    "\n"
   ]
  },
  {
   "cell_type": "code",
   "execution_count": 9,
   "metadata": {},
   "outputs": [
    {
     "name": "stdout",
     "output_type": "stream",
     "text": [
      "[4, 8, 12, 16]\n",
      "[8, 16, 24, 32]\n"
     ]
    }
   ],
   "source": [
    "arr=[2,4,6,8]\n",
    "res=map(lambda a:a*2,arr)\n",
    "print(list(res))\n",
    "res=map(lambda a: a*4, arr)\n",
    "print(list(res))"
   ]
  },
  {
   "cell_type": "code",
   "execution_count": 1,
   "metadata": {},
   "outputs": [
    {
     "name": "stdout",
     "output_type": "stream",
     "text": [
      "List 1:  [1, 3, 4, 6, 8]\n",
      "List 2:  [4, 5, 2, 7, 9]\n",
      "List 3:  [4, 2, 8, 3, 2, 1]\n",
      "Sum of lists 1 and 2:  [5, 8, 6, 13, 17]\n",
      "Multiplication of list 3 and summed list:  [20, 16, 48, 39, 34]\n"
     ]
    }
   ],
   "source": [
    "l1=[1,3,4,6,8]\n",
    "l2=[4,5,2,7,9]\n",
    "l3=[4,2,8,3,2,1]\n",
    "print(\"List 1: \",l1)\n",
    "print(\"List 2: \",l2)\n",
    "print(\"List 3: \",l3)\n",
    "temp_list=list(map(lambda x,y:x+y,l1,l2))\n",
    "res_list=list(map(lambda x,y:x*y,temp_list,l3))\n",
    "print(\"Sum of lists 1 and 2: \",temp_list)\n",
    "print(\"Multiplication of list 3 and summed list: \",res_list)\n"
   ]
  },
  {
   "cell_type": "code",
   "execution_count": 5,
   "metadata": {},
   "outputs": [
    {
     "name": "stdout",
     "output_type": "stream",
     "text": [
      "[0, 1, 1, 2, 3, 5, 8, 13, 21, 34]\n",
      "[1, 1, 3, 5, 13, 21]\n",
      "[0, 2, 8, 34]\n"
     ]
    }
   ],
   "source": [
    "fibo=[0,1]\n",
    "for i in range(2,10):\n",
    "    fibo.append(fibo[i-1]+fibo[i-2])\n",
    "print(fibo)\n",
    "odd=filter(lambda a: True if a%2!=0 else False,fibo)\n",
    "even=filter(lambda a:True if a%2==0 else False,fibo)\n",
    "print(list(odd))\n",
    "print(list(even))"
   ]
  },
  {
   "cell_type": "code",
   "execution_count": 4,
   "metadata": {},
   "outputs": [
    {
     "name": "stdout",
     "output_type": "stream",
     "text": [
      "MainThread\n",
      "Child Thread\n",
      "\n",
      "0\n",
      "2\n",
      "4\n",
      "6\n",
      "8\n",
      "10\n",
      "12\n",
      "14\n",
      "16\n",
      "18\n",
      "\n",
      "Executing thread name:  MainThread\n",
      "0\n",
      "3\n",
      "6\n",
      "9\n",
      "12\n",
      "15\n",
      "18\n",
      "21\n",
      "24\n",
      "27\n"
     ]
    }
   ],
   "source": [
    "from threading import Thread,current_thread\n",
    "def mul2():\n",
    "    print(\"Child Thread\\n\")\n",
    "    for i in range(10):\n",
    "        print(i*2)\n",
    "def mul3():\n",
    "    for i in range(10):\n",
    "        print(i*3)\n",
    "print(current_thread().getName())\n",
    "child=Thread(target=mul2())\n",
    "child.start()\n",
    "print(\"\\nExecuting thread name: \",current_thread().getName())\n",
    "mul3()"
   ]
  },
  {
   "cell_type": "code",
   "execution_count": 13,
   "metadata": {},
   "outputs": [
    {
     "name": "stdout",
     "output_type": "stream",
     "text": [
      "ID of main process : 17096\n",
      "ID of process 1 : 4628\n",
      "ID of process 2 : 12528\n",
      "Both processes finished execution\n",
      "\n",
      "Process p1 is alive: False\n",
      "Process p2 is alive: False\n"
     ]
    }
   ],
   "source": [
    "import multiprocessing\n",
    "import os\n",
    "def worker1():\n",
    "    print(\"Id of process running worker1 :{}\".format(os.getpid()))\n",
    "def worker2():\n",
    "    print(\"Id of process running worker2 :{}\".format(os.getpid()))\n",
    "print(\"ID of main process : {}\".format(os.getpid()))\n",
    "p1=multiprocessing.Process(target=worker1)\n",
    "p2=multiprocessing.Process(target=worker2)\n",
    "p1.start()\n",
    "p2.start()\n",
    "print(\"ID of process 1 : {}\".format(p1.pid))\n",
    "print(\"ID of process 2 : {}\".format(p2.pid))\n",
    "p1.join()\n",
    "p2.join()\n",
    "\n",
    "print(\"Both processes finished execution\\n\")\n",
    "print(\"Process p1 is alive: {}\".format(p1.is_alive()))\n",
    "print(\"Process p2 is alive: {}\".format(p2.is_alive()))"
   ]
  },
  {
   "cell_type": "code",
   "execution_count": 7,
   "metadata": {},
   "outputs": [
    {
     "name": "stdout",
     "output_type": "stream",
     "text": [
      "Hello from child Thread-9\n",
      "Hello from child Thread-9\n",
      "Hello from child Thread-9\n",
      "Hello from MainThread\n"
     ]
    }
   ],
   "source": [
    "from threading import Thread,current_thread\n",
    "class mythread(Thread):\n",
    "    def run(self):\n",
    "        for x in range(3):\n",
    "            print(\"Hello from child\",current_thread().getName())\n",
    "a=mythread()\n",
    "a.start()\n",
    "a.join()\n",
    "print(\"Hello from\",current_thread().getName())"
   ]
  },
  {
   "cell_type": "code",
   "execution_count": 2,
   "metadata": {},
   "outputs": [
    {
     "name": "stdout",
     "output_type": "stream",
     "text": [
      "1\n",
      "2\n",
      "3\n",
      "4\n",
      "5\n",
      "6\n",
      "7\n",
      "8\n",
      "9\n",
      "10\n",
      "9\n",
      "8\n",
      "7\n",
      "6\n",
      "5\n",
      "4\n",
      "3\n",
      "2\n",
      "1\n",
      "0\n",
      "0\n"
     ]
    }
   ],
   "source": [
    "import threading\n",
    "x=0\n",
    "count=10\n",
    "def incr():\n",
    "    global x\n",
    "    for i in range(count):\n",
    "        x+=1\n",
    "        print(x)\n",
    "def decr():\n",
    "    global x\n",
    "    for i in range(count):\n",
    "        x-=1\n",
    "        print(x)\n",
    "t1=threading.Thread(target=incr)\n",
    "t2=threading.Thread(target=decr)\n",
    "t1.start()\n",
    "t2.start()\n",
    "t1.join()\n",
    "t2.join()\n",
    "print(x)"
   ]
  },
  {
   "cell_type": "code",
   "execution_count": 3,
   "metadata": {},
   "outputs": [
    {
     "name": "stdout",
     "output_type": "stream",
     "text": [
      "\n",
      "Thread locked for increment\n",
      "Current value of x :  0\n",
      "1\n",
      "2\n",
      "3\n",
      "4\n",
      "5\n",
      "6\n",
      "7\n",
      "8\n",
      "9\n",
      "10\n",
      "\n",
      "Thread release for increment\n",
      "Current value of x : \n",
      "Thread locked for decrement\n",
      "Current value of x :  10\n",
      "9\n",
      "8\n",
      "7\n",
      "6\n",
      "5\n",
      "4\n",
      "3\n",
      "2\n",
      "1\n",
      "0\n",
      "\n",
      "Thread release for decrement\n",
      "Current value of x :  0\n",
      " 10\n",
      "0\n"
     ]
    }
   ],
   "source": [
    "import threading\n",
    "x=0\n",
    "count=10\n",
    "lock=threading.Lock()\n",
    "\n",
    "def incr():\n",
    "    global x\n",
    "    lock.acquire()\n",
    "    print(\"\\nThread locked for increment\\nCurrent value of x : \",x)\n",
    "    for i in range(count):\n",
    "        x+=1\n",
    "        print(x)\n",
    "    lock.release()\n",
    "    print(\"\\nThread release for increment\\nCurrent value of x : \",x)\n",
    "    \n",
    "def decr():\n",
    "    global x\n",
    "    lock.acquire()\n",
    "    print(\"\\nThread locked for decrement\\nCurrent value of x : \",x)\n",
    "    for i in range(count):\n",
    "        x-=1\n",
    "        print(x)\n",
    "    lock.release()\n",
    "    print(\"\\nThread release for decrement\\nCurrent value of x : \",x)\n",
    "    \n",
    "t1=threading.Thread(target=incr)\n",
    "t2=threading.Thread(target=decr)\n",
    "t1.start()\n",
    "t2.start()\n",
    "t1.join()\n",
    "t2.join()\n",
    "print(x)"
   ]
  },
  {
   "cell_type": "code",
   "execution_count": 9,
   "metadata": {},
   "outputs": [
    {
     "name": "stdout",
     "output_type": "stream",
     "text": [
      "I am the producer and i am going to produce\n",
      "\n",
      "Producer is going to sleep\n",
      "\n",
      "I am a consumer and i wait for data\n",
      "\n",
      "Consumer is waiting\n",
      "\n",
      "Producer is alive. Signalling the consumer\n",
      "\n",
      "Consumer got : Hello\n"
     ]
    }
   ],
   "source": [
    "import threading\n",
    "import time\n",
    "done=threading.Semaphore(0)\n",
    "item= None\n",
    "def producer():\n",
    "    global item\n",
    "    print(\"I am the producer and i am going to produce\")\n",
    "    print(\"\\nProducer is going to sleep\")\n",
    "    time.sleep(10)\n",
    "    item=\"Hello\"\n",
    "    print(\"\\nProducer is alive. Signalling the consumer\")\n",
    "    done.release()\n",
    "def consumer():\n",
    "    print(\"\\nI am a consumer and i wait for data\")\n",
    "    print(\"\\nConsumer is waiting\")\n",
    "    done.acquire()\n",
    "    print(\"\\nConsumer got :\",item)\n",
    "\n",
    "t1=threading.Thread(target=producer)\n",
    "t2=threading.Thread(target=consumer)\n",
    "t1.start()\n",
    "t2.start()"
   ]
  },
  {
   "cell_type": "code",
   "execution_count": 6,
   "metadata": {},
   "outputs": [
    {
     "name": "stdout",
     "output_type": "stream",
     "text": [
      "I am a string\n",
      "I am an integer\n"
     ]
    }
   ],
   "source": [
    "from typing import Union\n",
    "def return_int_or_str(flag : bool) -> Union[str,int]:\n",
    "    if flag:\n",
    "        return \"I am a string\"\n",
    "    else:\n",
    "        return \"I am an integer\"\n",
    "print(return_int_or_str(1))\n",
    "print(return_int_or_str(0))\n"
   ]
  },
  {
   "cell_type": "code",
   "execution_count": 41,
   "metadata": {},
   "outputs": [
    {
     "name": "stdout",
     "output_type": "stream",
     "text": [
      "1\n",
      "<class 'int'>\n",
      "<class 'str'>\n",
      "a\n",
      "a\n",
      "1\n"
     ]
    }
   ],
   "source": [
    "from typing_extensions import Literal\n",
    "def func(x: Literal[1], y: int) -> Literal[1]:\n",
    "    return x\n",
    "x1 : Literal[1] = \"a\"\n",
    "y1 : int = 1\n",
    "print(func(y1,y1))\n",
    "print(type(y1))\n",
    "print(type(x1))\n",
    "print(func(x1,x1))\n",
    "print(func(x1,y1))\n",
    "print(func(y1,x1))\n"
   ]
  },
  {
   "cell_type": "code",
   "execution_count": 30,
   "metadata": {},
   "outputs": [
    {
     "name": "stdout",
     "output_type": "stream",
     "text": [
      "0\n",
      "ab\n",
      "<class 'int'>\n",
      "<class 'str'>\n"
     ]
    }
   ],
   "source": [
    "from typing import Union, overload\n",
    "def dec(first:str)->str:\n",
    "    \"\"\"Decreases a string\"\"\"\n",
    "def dec(first:int)->int:\n",
    "    \"\"\"Decreases a number\"\"\"\n",
    "def dec(first:Union[str,int])->Union[str,int]:\n",
    "    if isinstance(first, int):\n",
    "        return first-1\n",
    "    return first[:-1]\n",
    "print(dec(1))\n",
    "print(dec('abc'))\n",
    "print(type(dec(1)))\n",
    "print(type(dec('abc')))"
   ]
  },
  {
   "cell_type": "code",
   "execution_count": 20,
   "metadata": {},
   "outputs": [
    {
     "name": "stdout",
     "output_type": "stream",
     "text": [
      "2*x\n",
      "x**2 + 7*x + 7*y\n"
     ]
    }
   ],
   "source": [
    "from sympy import *\n",
    "x=Symbol('x')\n",
    "y=Symbol('y')\n",
    "z=(x+y)+(x-y)\n",
    "a=(2*x + 3*y)+(4*y + 5*x)+pow(x,2)\n",
    "print(str(z))\n",
    "print((str(a)))"
   ]
  },
  {
   "cell_type": "code",
   "execution_count": 42,
   "metadata": {},
   "outputs": [
    {
     "name": "stdout",
     "output_type": "stream",
     "text": [
      "((1, 2),)\n",
      "((1, 3),)\n",
      "((1, 3),)\n"
     ]
    }
   ],
   "source": [
    "from kanren import run,var,fact\n",
    "from kanren.assoccomm import eq_assoccomm as eq\n",
    "from kanren.assoccomm import commutative,associative\n",
    "add='add'\n",
    "mul='mul'\n",
    "fact(commutative,add)\n",
    "fact(commutative,mul)\n",
    "fact(associative,add)\n",
    "fact(associative,mul)\n",
    "a=var('a')\n",
    "b=var('b')\n",
    "pattern=(add,(mul,2,a,b),b)\n",
    "e1=(add,(mul,2,1,2),2)\n",
    "e2=(add,3,(mul,2,1,3))\n",
    "e3=(add,3,(mul,2,3,1))\n",
    "print(run(0,(a,b),eq(e1,pattern)))\n",
    "print(run(0,(a,b),eq(e2,pattern)))\n",
    "print(run(0,(a,b),eq(e3,pattern)))\n"
   ]
  },
  {
   "cell_type": "code",
   "execution_count": 2,
   "metadata": {},
   "outputs": [
    {
     "name": "stdout",
     "output_type": "stream",
     "text": [
      "No. of staff directly reporting under John:  Z\n",
      "-\n",
      "2\n",
      "No. of staff directly reporting under Alice:  Z\n",
      "-\n",
      "4\n"
     ]
    }
   ],
   "source": [
    "from pyDatalog import pyDatalog\n",
    "pyDatalog.create_terms('X,Y,Z,Manager,count_of_direct_reports')\n",
    "+(Manager['Alice'] == 'John')\n",
    "+(Manager['Franklin'] == 'John')\n",
    "+(Manager['Bob'] == 'Alice')\n",
    "+(Manager['Dawn'] == 'Alice')\n",
    "+(Manager['Trinity'] == 'Alice')\n",
    "+(Manager['Christine'] == 'Alice')\n",
    "(count_of_direct_reports[X]==len_(Y)) <= (Manager[Y]==X)\n",
    "print(\"No. of staff directly reporting under John: \",count_of_direct_reports['John']==Z)\n",
    "print(\"No. of staff directly reporting under Alice: \",count_of_direct_reports['Alice']==Z)\n",
    "\n",
    "\n"
   ]
  },
  {
   "cell_type": "code",
   "execution_count": null,
   "metadata": {},
   "outputs": [],
   "source": [
    "import socket\n",
    "s=socket.socket()\n",
    "host=socket.gethostname()\n",
    "port=4456\n",
    "s.bind((host,port))\n",
    "s.listen(5)\n",
    "print(\"Server is listening\")\n",
    "con,addr=s.accept()\n",
    "print(\"connection accepted \",addr)\n",
    "while True:\n",
    "    data=con.recv(1024)\n",
    "    if data.decode()=='bye' or not  data:\n",
    "        break\n",
    "    print(\"client: \",data.decode())\n",
    "    data=input(\"Server: \")\n",
    "    con.sendall(data.encode())\n",
    "con.close()"
   ]
  },
  {
   "cell_type": "code",
   "execution_count": null,
   "metadata": {},
   "outputs": [],
   "source": [
    "import socket\n",
    "s=socket.socket()\n",
    "host=socket.gethostname()\n",
    "port=4456\n",
    "s.connect((host,port))\n",
    "print(\"Client waiting for connection: \")\n",
    "s.send(\"request for connection\".encode())\n",
    "while True:\n",
    "    data=con.recv(1024)\n",
    "    if data.decode()=='bye' or not  data:\n",
    "        break\n",
    "    print(\"server: \",data.decode())\n",
    "    data=input(\"Client: \")\n",
    "    s.send(data.encode())\n",
    "s.close()"
   ]
  },
  {
   "cell_type": "code",
   "execution_count": null,
   "metadata": {},
   "outputs": [],
   "source": [
    "import socket\n",
    "\n",
    "host=socket.gethostname()\n",
    "port=12345\n",
    "s=socket.socket()\n",
    "s.bind((host,port))\n",
    "s.listen(5)\n",
    "print(\"Waiting for client...\")\n",
    "con,addr=s.accept()\n",
    "print(\"connection accepted \",addr)\n",
    "while True:\n",
    "    data=con.recv(1024)\n",
    "    if not  data:break\n",
    "    con.sendall(data)\n",
    "con.close()"
   ]
  },
  {
   "cell_type": "code",
   "execution_count": null,
   "metadata": {},
   "outputs": [],
   "source": [
    "import socket\n",
    "\n",
    "host=socket.gethostname()\n",
    "port=12345\n",
    "s=socket.socket()\n",
    "s.connect((host,port))\n",
    "s.sendall(\"This will be sent to server\")\n",
    "while True:\n",
    "    data=s.recv(1024).decode()\n",
    "    if data== 'quit' or not data:\n",
    "        break\n",
    "    else:\n",
    "        print(\"echoed\",data)\n",
    "        st=input(\"Client:\")\n",
    "        s.sendall(st.encode())\n",
    "s.close()"
   ]
  },
  {
   "cell_type": "code",
   "execution_count": 1,
   "metadata": {},
   "outputs": [
    {
     "ename": "SyntaxError",
     "evalue": "invalid syntax (<ipython-input-1-e372c9f0ba62>, line 2)",
     "output_type": "error",
     "traceback": [
      "\u001b[1;36m  File \u001b[1;32m\"<ipython-input-1-e372c9f0ba62>\"\u001b[1;36m, line \u001b[1;32m2\u001b[0m\n\u001b[1;33m    nfa=(states= {'q0','q1','q2'},input_symbols={'a','b'},transitions={'q0' :{'a':{'q1'}},'q1' :{'a':{'q1'},'' : {'q2'}},'q2' :{'b':{'q0'}}},initial_states={'q0'},final_states={'q1'})\u001b[0m\n\u001b[1;37m               ^\u001b[0m\n\u001b[1;31mSyntaxError\u001b[0m\u001b[1;31m:\u001b[0m invalid syntax\n"
     ]
    }
   ],
   "source": [
    "from automata.fa.nfa import NFA\n",
    "nfa=(states= {'q0','q1','q2'},input_symbols={'a','b'},transitions={'q0' :{'a':{'q1'}},'q1' :{'a':{'q1'},'' : {'q2'}},'q2' :{'b':{'q0'}}},initial_states={'q0'},final_states={'q1'})\n",
    "nfa.read_input('aba')\n",
    "if nfa.accepts_input('aba'):\n",
    "    print('accepted')\n",
    "else:\n",
    "    print('rejected')\n",
    "print(nfa.validate())"
   ]
  },
  {
   "cell_type": "code",
   "execution_count": 9,
   "metadata": {},
   "outputs": [
    {
     "ename": "SyntaxError",
     "evalue": "invalid syntax (<ipython-input-9-787051303b5c>, line 7)",
     "output_type": "error",
     "traceback": [
      "\u001b[1;36m  File \u001b[1;32m\"<ipython-input-9-787051303b5c>\"\u001b[1;36m, line \u001b[1;32m7\u001b[0m\n\u001b[1;33m    'q1':{'0':'q2','1':'q1'}\u001b[0m\n\u001b[1;37m       ^\u001b[0m\n\u001b[1;31mSyntaxError\u001b[0m\u001b[1;31m:\u001b[0m invalid syntax\n"
     ]
    }
   ],
   "source": [
    "from automata.fa.dfa import DFA\n",
    "dfa=DFA(\n",
    "  states={'q0','q1','q2','q3'},\n",
    "  inputs_symbols={'0','1'},\n",
    "  transitions={\n",
    "  'q0':{'0':'q0','1':'q1'}\n",
    "  'q1':{'0':'q2','1':'q1'}\n",
    "  'q2':{'0':'q2','1':'q3'}\n",
    "  'q3':{'0':'q3','1':'q3'}\n",
    "  },\n",
    "  initial state='q0',\n",
    "  final state={'q3'}\n",
    ")\n",
    "dfa.read_input('101') #answer is '101'\n",
    "dfa.read_input('010') #answer is 'error'\n",
    "if dfa.accepts_inputs('101'):\n",
    "   print('accepted')\n",
    "else:\n",
    "   print('rejected')"
   ]
  },
  {
   "cell_type": "code",
   "execution_count": 3,
   "metadata": {},
   "outputs": [
    {
     "name": "stdout",
     "output_type": "stream",
     "text": [
      "The expansion of a+b whole sq is:  a**2 + 2*a*b + b**2\n",
      "The factors of  a**2 + 2*a*b + b**2 is:  (a + b)**2\n",
      "3*x*(2*x + 1)\n"
     ]
    }
   ],
   "source": [
    "import sympy\n",
    "from sympy import expand,factor,simplify,symbols\n",
    "a=symbols('a')\n",
    "b=symbols('b')\n",
    "x=symbols('x')\n",
    "d=symbols('d')\n",
    "expr=expand((a+b)**2)\n",
    "print(\"The expansion of a+b whole sq is: \",expr)\n",
    "fact=factor(expr)\n",
    "print(\"The factors of \",expr,\"is: \",fact)\n",
    "simpl=simplify(2*x**2 + x*(4*x+3))\n",
    "print(simpl)\n"
   ]
  },
  {
   "cell_type": "code",
   "execution_count": 6,
   "metadata": {},
   "outputs": [
    {
     "name": "stdout",
     "output_type": "stream",
     "text": [
      "The first derivative of sin(2x)=  2*cos(2*x)\n",
      "The second derivative of sin(2x)=  -4*sin(2*x)\n",
      "The third vative of sin(2x)=  -8*cos(2*x)\n",
      "The fourth tive of sin(2x)=  16*sin(2*x)\n"
     ]
    }
   ],
   "source": [
    "from sympy import diff,sin,symbols\n",
    "x=symbols('x')\n",
    "first=diff(sin(2*x))\n",
    "second=diff(sin(2*x),x,2)\n",
    "third=diff(sin(2*x),x,3)\n",
    "fourth=diff(sin(2*x),x,4)\n",
    "print(\"The first derivative of sin(2x)= \",first)\n",
    "print(\"The second derivative of sin(2x)= \",second)\n",
    "print(\"The third vative of sin(2x)= \",third)\n",
    "print(\"The fourth tive of sin(2x)= \",fourth)\n"
   ]
  },
  {
   "cell_type": "code",
   "execution_count": 7,
   "metadata": {},
   "outputs": [
    {
     "name": "stdout",
     "output_type": "stream",
     "text": [
      "The definite integral of the given is:  -sin(1) + sin(4) - 765/1024\n",
      "The result of given indefinite integral is:  4*x**7/7 - x**4/2 - 7*x**2/2 - 4*x\n"
     ]
    }
   ],
   "source": [
    "from sympy import limit,cos,integrate,symbols\n",
    "x=symbols('x')\n",
    "d=integrate(cos(x)-3/x**5, (x,1,4))\n",
    "print(\"The definite integral of the given is: \",d)\n",
    "i=integrate(4*x**6- 2*x**3 - 7*x -4)\n",
    "print(\"The result of given indefinite integral is: \",i)"
   ]
  },
  {
   "cell_type": "code",
   "execution_count": null,
   "metadata": {},
   "outputs": [],
   "source": []
  }
 ],
 "metadata": {
  "kernelspec": {
   "display_name": "Python 3",
   "language": "python",
   "name": "python3"
  },
  "language_info": {
   "codemirror_mode": {
    "name": "ipython",
    "version": 3
   },
   "file_extension": ".py",
   "mimetype": "text/x-python",
   "name": "python",
   "nbconvert_exporter": "python",
   "pygments_lexer": "ipython3",
   "version": "3.7.6"
  }
 },
 "nbformat": 4,
 "nbformat_minor": 4
}
